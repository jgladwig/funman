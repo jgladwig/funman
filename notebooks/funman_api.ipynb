{
 "cells": [
  {
   "cell_type": "code",
   "execution_count": null,
   "metadata": {},
   "outputs": [],
   "source": [
    "import asyncio\n",
    "import nest_asyncio\n",
    "import json\n",
    "import unittest\n",
    "from os import path, getcwd\n",
    "\n",
    "import funman.api.client as client\n",
    "from funman.api.api import app\n",
    "from funman.api.server import Server, ServerConfig\n",
    "\n",
    "API_BASE_PATH = path.join(os.getcwd(), \"..\")\n",
    "API_SERVER_HOST = \"0.0.0.0\"\n",
    "API_SERVER_PORT = 8190\n",
    "SERVER_URL = f\"http://{API_SERVER_HOST}:{API_SERVER_PORT}\"\n",
    "OPENAPI_URL = f\"{SERVER_URL}/openapi.json\"\n",
    "CLIENT_NAME = \"funman-api-client\""
   ]
  },
  {
   "cell_type": "code",
   "execution_count": null,
   "metadata": {},
   "outputs": [],
   "source": [
    "# Start API Server\n",
    "\n",
    "server = Server(\n",
    "            config=ServerConfig(\n",
    "                app,\n",
    "                host=API_SERVER_HOST,\n",
    "                port=API_SERVER_PORT,\n",
    "                log_level=\"info\",\n",
    "            )\n",
    "        )\n",
    "# loop = asyncio.get_event_loop()\n",
    "# loop.create_task(server.serve())\n",
    "nest_asyncio.apply()\n",
    "server.run_in_thread()"
   ]
  },
  {
   "cell_type": "code",
   "execution_count": null,
   "metadata": {},
   "outputs": [],
   "source": [
    "# Make API client\n",
    "\n",
    "client.make_client(\n",
    "    API_BASE_PATH, openapi_url=OPENAPI_URL, client_name=CLIENT_NAME\n",
    ")\n",
    "from funman_api_client import Client\n",
    "\n",
    "\n",
    "funman_client = Client(SERVER_URL, timeout=None)"
   ]
  },
  {
   "cell_type": "code",
   "execution_count": null,
   "metadata": {},
   "outputs": [],
   "source": [
    "# Setup API client request\n",
    "\n",
    "from funman_api_client.api.default import (\n",
    "    solve_consistency_solve_consistency_put,\n",
    ")\n",
    "from funman_api_client.models import (\n",
    "    BodySolveConsistencySolveConsistencyPut,\n",
    "    ConsistencyScenario,\n",
    "    ConsistencyScenarioResult,\n",
    "    FUNMANConfig\n",
    ")"
   ]
  },
  {
   "cell_type": "code",
   "execution_count": null,
   "metadata": {},
   "outputs": [],
   "source": [
    "# Construct request\n",
    "\n",
    "\n",
    "bilayer_json =     {\"Wa\":[{\"influx\":1,\"infusion\":2},\n",
    "\t\t\t {\"influx\":2,\"infusion\":3}],\n",
    " \"Win\":[{\"arg\":1,\"call\":1},\n",
    " \t\t\t\t{\"arg\":2,\"call\":1},\n",
    " \t\t\t\t{\"arg\":2,\"call\":2}],\n",
    " \"Box\":[{\"parameter\":\"beta\"},\n",
    " \t\t\t\t{\"parameter\":\"gamma\"}],\n",
    " \"Qin\":[{\"variable\":\"S\"},\n",
    " \t\t\t\t{\"variable\":\"I\"},\n",
    " \t\t\t\t{\"variable\":\"R\"}],\n",
    " \"Qout\":[{\"tanvar\":\"S'\"},\n",
    " \t\t\t\t {\"tanvar\":\"I'\"},\n",
    " \t\t\t\t {\"tanvar\":\"R'\"}],\n",
    " \"Wn\":[{\"efflux\":1,\"effusion\":1},\n",
    " \t\t\t {\"efflux\":2,\"effusion\":2}]}\n",
    "\n",
    "\n",
    "infected_threshold = 130\n",
    "init_values = {\"S\": 9998, \"I\": 1, \"R\": 1}\n",
    "\n",
    "\n",
    "response = asyncio.run(\n",
    "    solve_consistency_solve_consistency_put.asyncio_detailed(\n",
    "        client=funman_client,\n",
    "        json_body=BodySolveConsistencySolveConsistencyPut(\n",
    "            ConsistencyScenario.from_dict(\n",
    "                {\n",
    "                    \"model\": {\n",
    "                        \"init_values\": init_values,\n",
    "                        \"bilayer\": {\"json_graph\": bilayer_json},\n",
    "                    },\n",
    "                    \"query\": {\n",
    "                        \"variable\": \"I\",\n",
    "                        \"ub\": infected_threshold,\n",
    "                        \"at_end\": False,\n",
    "                    },\n",
    "                }\n",
    "            ),\n",
    "            FUNMANConfig.from_dict(\n",
    "                            {\"tolerance\": 1.0e-8, \"number_of_processes\": 1}\n",
    "                        ),\n",
    "        ),\n",
    "    )\n",
    ")\n",
    "\n",
    "result = ConsistencyScenarioResult.from_dict(\n",
    "    src_dict=json.loads(response.content.decode())\n",
    ")\n",
    "result.to_dict()"
   ]
  }
 ],
 "metadata": {
  "kernelspec": {
   "display_name": "funman_venv",
   "language": "python",
   "name": "python3"
  },
  "language_info": {
   "codemirror_mode": {
    "name": "ipython",
    "version": 3
   },
   "file_extension": ".py",
   "mimetype": "text/x-python",
   "name": "python",
   "nbconvert_exporter": "python",
   "pygments_lexer": "ipython3",
   "version": "3.8.10"
  },
  "orig_nbformat": 4,
  "vscode": {
   "interpreter": {
    "hash": "c4119eda3b1833fe9fd8fbf30e1a97c798b493dbeda1893c2d82ebe0184730f9"
   }
  }
 },
 "nbformat": 4,
 "nbformat_minor": 2
}
