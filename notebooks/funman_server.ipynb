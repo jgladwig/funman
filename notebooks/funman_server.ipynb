{
 "cells": [
  {
   "cell_type": "code",
   "execution_count": null,
   "id": "18ad842e",
   "metadata": {},
   "outputs": [],
   "source": [
    "import asyncio\n",
    "import nest_asyncio\n",
    "import os\n",
    "import json\n",
    "import unittest\n",
    "from pathlib import Path\n",
    "\n",
    "import funman.api.client as client\n",
    "from funman.api.api import app\n",
    "from funman.api.server import Server, ServerConfig\n",
    "\n",
    "API_BASE_PATH = os.path.join(os.getcwd(), \"..\")\n",
    "API_SERVER_HOST = \"0.0.0.0\"\n",
    "API_SERVER_PORT = 8190\n",
    "SERVER_URL = f\"http://{API_SERVER_HOST}:{API_SERVER_PORT}\"\n",
    "OPENAPI_URL = f\"{SERVER_URL}/openapi.json\"\n",
    "CLIENT_NAME = \"funman-api-client\""
   ]
  },
  {
   "cell_type": "code",
   "execution_count": null,
   "id": "1026004e",
   "metadata": {},
   "outputs": [],
   "source": [
    "# Start API Server\n",
    "server = Server(\n",
    "            config=ServerConfig(\n",
    "                app,\n",
    "                host=API_SERVER_HOST,\n",
    "                port=API_SERVER_PORT,\n",
    "                log_level=\"info\",\n",
    "            )\n",
    "        )\n",
    "nest_asyncio.apply()\n",
    "thread = server.start_in_thread()"
   ]
  },
  {
   "cell_type": "code",
   "execution_count": null,
   "id": "8f8b5e65",
   "metadata": {},
   "outputs": [],
   "source": [
    "# Close out server\n",
    "server.should_exit = True\n",
    "thread.join()"
   ]
  }
 ],
 "metadata": {
  "kernelspec": {
   "display_name": "Python 3 (ipykernel)",
   "language": "python",
   "name": "python3"
  },
  "language_info": {
   "codemirror_mode": {
    "name": "ipython",
    "version": 3
   },
   "file_extension": ".py",
   "mimetype": "text/x-python",
   "name": "python",
   "nbconvert_exporter": "python",
   "pygments_lexer": "ipython3",
   "version": "3.8.10"
  }
 },
 "nbformat": 4,
 "nbformat_minor": 5
}
